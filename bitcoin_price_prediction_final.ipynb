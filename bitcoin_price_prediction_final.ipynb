{
 "cells": [
  {
   "cell_type": "code",
   "execution_count": null,
   "id": "a45264ae",
   "metadata": {},
   "outputs": [],
   "source": [
    "# We import necessary libraries for data handling, preprocessing, modeling, evaluation, and visualization.\n",
    "import pandas as pd\n",
    "import numpy as np\n",
    "import matplotlib.pyplot as plt\n",
    "from sklearn.model_selection import train_test_split\n",
    "from sklearn.linear_model import LinearRegression\n",
    "from sklearn.tree import DecisionTreeRegressor\n",
    "from sklearn.ensemble import RandomForestRegressor\n",
    "from sklearn.metrics import mean_squared_error, r2_score\n",
    "from datetime import datetime\n",
    "import warnings\n",
    "warnings.filterwarnings('ignore')"
   ]
  },
  {
   "cell_type": "code",
   "execution_count": null,
   "id": "f22bd2cc",
   "metadata": {},
   "outputs": [],
   "source": [
    "print(\"\"\"\n",
    "# Bitcoin Price Prediction Project\n",
    "**Team Members**:  \n",
    "- John Doe (Data Analyst)  \n",
    "- Jane Smith (ML Engineer)\n",
    "\"\"\")"
   ]
  },
  {
   "cell_type": "code",
   "execution_count": null,
   "id": "7960ce8e",
   "metadata": {},
   "outputs": [],
   "source": [
    "print(\"\"\"\n",
    "## Introduction & Problem Statement\n",
    "Bitcoin is a highly volatile cryptocurrency, and predicting its price can help investors make better decisions. \n",
    "This project uses simple machine learning models to predict Bitcoin's daily closing price using historical data \n",
    "from 2014 to 2024. As beginners, we focus on easy-to-understand algorithms like Linear Regression, Decision Tree, \n",
    "and Random Forest to learn the basics of machine learning.\n",
    "\"\"\")"
   ]
  },
  {
   "cell_type": "code",
   "execution_count": null,
   "id": "224f4c5d",
   "metadata": {},
   "outputs": [],
   "source": [
    "df = pd.read_csv('BTC-USD.csv')\n",
    "print(\"## Dataset Description\")\n",
    "print(f\"- **Source**: BTC-USD.csv (historical Bitcoin prices in USD)\")\n",
    "print(f\"- **Rows**: {df.shape[0]}, **Columns**: {df.shape[1]}\")\n",
    "print(f\"- **Columns**: {', '.join(df.columns)}\")\n",
    "print(f\"- **Target Variable**: Close (daily closing price in USD)\")\n",
    "print(\"\\nFirst 5 rows:\")\n",
    "print(df.head())"
   ]
  },
  {
   "cell_type": "code",
   "execution_count": null,
   "id": "721406fb",
   "metadata": {},
   "outputs": [],
   "source": [
    "print(\"## Data Preprocessing\")\n",
    "df = df.dropna()\n",
    "df['Date'] = pd.to_datetime(df['Date'])\n",
    "df = df.drop(columns=['Adj Close'])\n",
    "print(f\"After cleaning, dataset has {df.shape[0]} rows.\")\n",
    "print(\"Missing values:\", df.isnull().sum().sum())"
   ]
  },
  {
   "cell_type": "code",
   "execution_count": null,
   "id": "9443fcbb",
   "metadata": {},
   "outputs": [],
   "source": [
    "print(\"## Feature Engineering\")\n",
    "df['Year'] = df['Date'].dt.year\n",
    "df['Month'] = df['Date'].dt.month\n",
    "df['Day'] = df['Date'].dt.day\n",
    "df['SMA7'] = df['Close'].rolling(window=7).mean()\n",
    "df['SMA14'] = df['Close'].rolling(window=14).mean()\n",
    "df = df.dropna()\n",
    "print(\"New features added: Year, Month, Day, SMA7, SMA14\")\n",
    "print(\"Dataset shape:\", df.shape)"
   ]
  },
  {
   "cell_type": "code",
   "execution_count": null,
   "id": "0a14776a",
   "metadata": {},
   "outputs": [],
   "source": [
    "print(\"## Visualization: Closing Price Over Time\")\n",
    "plt.figure(figsize=(10, 6))\n",
    "plt.plot(df['Date'], df['Close'], color='blue', label='Closing Price')\n",
    "plt.title('Bitcoin Closing Price (2014-2024)')\n",
    "plt.xlabel('Date')\n",
    "plt.ylabel('Price (USD)')\n",
    "plt.legend()\n",
    "plt.grid()\n",
    "plt.savefig('closing_price.png')\n",
    "plt.show()"
   ]
  },
  {
   "cell_type": "code",
   "execution_count": null,
   "id": "95396798",
   "metadata": {},
   "outputs": [],
   "source": [
    "print(\"## Visualization: Yearly Average Closing Price\")\n",
    "yearly_avg = df.groupby('Year')['Close'].mean().reset_index()\n",
    "plt.figure(figsize=(10, 6))\n",
    "plt.bar(yearly_avg['Year'], yearly_avg['Close'], color='green')\n",
    "plt.title('Yearly Average Bitcoin Closing Price')\n",
    "plt.xlabel('Year')\n",
    "plt.ylabel('Average Price (USD)')\n",
    "plt.grid()\n",
    "plt.savefig('yearly_avg_price.png')\n",
    "plt.show()"
   ]
  },
  {
   "cell_type": "code",
   "execution_count": null,
   "id": "9c037bbb",
   "metadata": {},
   "outputs": [],
   "source": [
    "print(\"## Model Selection & Training Process\")\n",
    "features = ['Open', 'High', 'Low', 'Volume', 'Year', 'Month', 'Day', 'SMA7', 'SMA14']\n",
    "X = df[features]\n",
    "y = df['Close']\n",
    "X_train, X_test, y_train, y_test = train_test_split(X, y, test_size=0.2, random_state=42)\n",
    "print(\"Features used:\", features)\n",
    "print(\"Training set size:\", X_train.shape[0])\n",
    "print(\"Testing set size:\", X_test.shape[0])"
   ]
  },
  {
   "cell_type": "code",
   "execution_count": null,
   "id": "0fd7f901",
   "metadata": {},
   "outputs": [],
   "source": [
    "models = {\n",
    "    'Linear Regression': LinearRegression(),\n",
    "    'Decision Tree': DecisionTreeRegressor(random_state=42),\n",
    "    'Random Forest': RandomForestRegressor(n_estimators=100, random_state=42)\n",
    "}\n",
    "predictions = {}\n",
    "metrics = []\n",
    "for name, model in models.items():\n",
    "    model.fit(X_train, y_train)\n",
    "    y_pred = model.predict(X_test)\n",
    "    predictions[name] = y_pred\n",
    "    r2 = r2_score(y_test, y_pred)\n",
    "    rmse = np.sqrt(mean_squared_error(y_test, y_pred))\n",
    "    metrics.append({'Model': name, 'R2': r2, 'RMSE': rmse})\n",
    "    print(f\"{name} - R2: {r2:.4f}, RMSE: {rmse:.2f}\")"
   ]
  },
  {
   "cell_type": "code",
   "execution_count": null,
   "id": "cad9d378",
   "metadata": {},
   "outputs": [],
   "source": [
    "print(\"## Visualization: Actual vs Predicted Prices\")\n",
    "for name, y_pred in predictions.items():\n",
    "    plt.figure(figsize=(10, 6))\n",
    "    plt.scatter(y_test, y_pred, alpha=0.5, color='purple')\n",
    "    plt.plot([y_test.min(), y_test.max()], [y_test.min(), y_test.max()], 'r--')\n",
    "    plt.title(f'Actual vs Predicted Prices ({name})')\n",
    "    plt.xlabel('Actual Price (USD)')\n",
    "    plt.ylabel('Predicted Price (USD)')\n",
    "    plt.grid()\n",
    "    plt.savefig(f'actual_vs_pred_{name.lower().replace(\" \", \"_\")}.png')\n",
    "    plt.show()"
   ]
  },
  {
   "cell_type": "code",
   "execution_count": null,
   "id": "a4f85c3e",
   "metadata": {},
   "outputs": [],
   "source": [
    "print(\"## Results & Model Comparison\")\n",
    "metrics_df = pd.DataFrame(metrics)\n",
    "plt.figure(figsize=(10, 6))\n",
    "plt.bar(metrics_df['Model'], metrics_df['R2'], color='skyblue')\n",
    "plt.title('Model Performance (R² Score)')\n",
    "plt.ylabel('R² Score')\n",
    "plt.grid()\n",
    "plt.savefig('model_r2_comparison.png')\n",
    "plt.show()\n",
    "\n",
    "plt.figure(figsize=(10, 6))\n",
    "plt.bar(metrics_df['Model'], metrics_df['RMSE'], color='salmon')\n",
    "plt.title('Model Performance (RMSE)')\n",
    "plt.ylabel('RMSE (USD)')\n",
    "plt.grid()\n",
    "plt.savefig('model_rmse_comparison.png')\n",
    "plt.show()"
   ]
  },
  {
   "cell_type": "code",
   "execution_count": null,
   "id": "c9a890da",
   "metadata": {},
   "outputs": [],
   "source": [
    "print(\"\"\"\n",
    "## Insights & Conclusion\n",
    "- **Price Trends**: Bitcoin's price grew significantly from ~$400 in 2014 to a peak of ~$69,000 in 2021, with notable volatility.\n",
    "- **Model Performance**: Random Forest performed best (highest R², lowest RMSE), followed by Linear Regression. Decision Tree was less accurate due to overfitting.\n",
    "- **Interesting Fact**: The highest closing price in 2023 was $44,670 on December 5, reflecting a strong recovery.\n",
    "- **Conclusion**: Simple ML models can predict Bitcoin prices with reasonable accuracy, especially Random Forest, which handles non-linear patterns well.\n",
    "\"\"\")"
   ]
  },
  {
   "cell_type": "code",
   "execution_count": null,
   "id": "e74ae3ad",
   "metadata": {},
   "outputs": [],
   "source": [
    "print(\"\"\"\n",
    "## Future Scope & Possible Improvements\n",
    "- **More Features**: Include external factors like market sentiment or macroeconomic indicators.\n",
    "- **Hyperparameter Tuning**: Optimize Random Forest parameters (e.g., number of trees) for better accuracy.\n",
    "- **Advanced Models**: Try gradient boosting algorithms like XGBoost after mastering basics.\n",
    "- **Real-Time Data**: Use live data for more practical predictions.\n",
    "\"\"\")"
   ]
  }
 ],
 "metadata": {},
 "nbformat": 4,
 "nbformat_minor": 5
}